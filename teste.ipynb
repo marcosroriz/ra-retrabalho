{
 "cells": [
  {
   "cell_type": "code",
   "execution_count": 1,
   "metadata": {},
   "outputs": [
    {
     "data": {
      "text/html": [
       "<div>\n",
       "<style scoped>\n",
       "    .dataframe tbody tr th:only-of-type {\n",
       "        vertical-align: middle;\n",
       "    }\n",
       "\n",
       "    .dataframe tbody tr th {\n",
       "        vertical-align: top;\n",
       "    }\n",
       "\n",
       "    .dataframe thead th {\n",
       "        text-align: right;\n",
       "    }\n",
       "</style>\n",
       "<table border=\"1\" class=\"dataframe\">\n",
       "  <thead>\n",
       "    <tr style=\"text-align: right;\">\n",
       "      <th></th>\n",
       "      <th>ID_COLABORADOR</th>\n",
       "      <th>DATA INICIO SERVICO</th>\n",
       "      <th>DESCRICAO DE SERVICO</th>\n",
       "    </tr>\n",
       "  </thead>\n",
       "  <tbody>\n",
       "    <tr>\n",
       "      <th>0</th>\n",
       "      <td>101</td>\n",
       "      <td>2024-01-05</td>\n",
       "      <td>Troca de Óleo</td>\n",
       "    </tr>\n",
       "    <tr>\n",
       "      <th>1</th>\n",
       "      <td>101</td>\n",
       "      <td>2024-02-10</td>\n",
       "      <td>Alinhamento</td>\n",
       "    </tr>\n",
       "    <tr>\n",
       "      <th>2</th>\n",
       "      <td>102</td>\n",
       "      <td>2024-01-20</td>\n",
       "      <td>Troca de Óleo</td>\n",
       "    </tr>\n",
       "    <tr>\n",
       "      <th>3</th>\n",
       "      <td>102</td>\n",
       "      <td>2024-02-25</td>\n",
       "      <td>Balanceamento</td>\n",
       "    </tr>\n",
       "    <tr>\n",
       "      <th>4</th>\n",
       "      <td>101</td>\n",
       "      <td>2024-03-15</td>\n",
       "      <td>Troca de Pneu</td>\n",
       "    </tr>\n",
       "    <tr>\n",
       "      <th>5</th>\n",
       "      <td>103</td>\n",
       "      <td>2024-03-10</td>\n",
       "      <td>Troca de Óleo</td>\n",
       "    </tr>\n",
       "    <tr>\n",
       "      <th>6</th>\n",
       "      <td>103</td>\n",
       "      <td>2024-03-20</td>\n",
       "      <td>Freio</td>\n",
       "    </tr>\n",
       "    <tr>\n",
       "      <th>7</th>\n",
       "      <td>102</td>\n",
       "      <td>2024-03-25</td>\n",
       "      <td>Balanceamento</td>\n",
       "    </tr>\n",
       "    <tr>\n",
       "      <th>8</th>\n",
       "      <td>101</td>\n",
       "      <td>2024-04-01</td>\n",
       "      <td>Troca de Óleo</td>\n",
       "    </tr>\n",
       "  </tbody>\n",
       "</table>\n",
       "</div>"
      ],
      "text/plain": [
       "   ID_COLABORADOR DATA INICIO SERVICO DESCRICAO DE SERVICO\n",
       "0             101          2024-01-05        Troca de Óleo\n",
       "1             101          2024-02-10          Alinhamento\n",
       "2             102          2024-01-20        Troca de Óleo\n",
       "3             102          2024-02-25        Balanceamento\n",
       "4             101          2024-03-15        Troca de Pneu\n",
       "5             103          2024-03-10        Troca de Óleo\n",
       "6             103          2024-03-20                Freio\n",
       "7             102          2024-03-25        Balanceamento\n",
       "8             101          2024-04-01        Troca de Óleo"
      ]
     },
     "execution_count": 1,
     "metadata": {},
     "output_type": "execute_result"
    }
   ],
   "source": [
    "import pandas as pd\n",
    "\n",
    "# Criando um DataFrame de exemplo para manipulação\n",
    "dados = {\n",
    "    \"ID_COLABORADOR\": [101, 101, 102, 102, 101, 103, 103, 102, 101],\n",
    "    \"DATA INICIO SERVICO\": [\n",
    "        \"2024-01-05\", \"2024-02-10\", \"2024-01-20\", \"2024-02-25\",\n",
    "        \"2024-03-15\", \"2024-03-10\", \"2024-03-20\", \"2024-03-25\", \"2024-04-01\"\n",
    "    ],\n",
    "    \"DESCRICAO DE SERVICO\": [\n",
    "        \"Troca de Óleo\", \"Alinhamento\", \"Troca de Óleo\", \"Balanceamento\",\n",
    "        \"Troca de Pneu\", \"Troca de Óleo\", \"Freio\", \"Balanceamento\", \"Troca de Óleo\"\n",
    "    ]\n",
    "}\n",
    "\n",
    "# Convertendo para DataFrame\n",
    "df_os_mecanico = pd.DataFrame(dados)\n",
    "\n",
    "# Convertendo a coluna de data para datetime\n",
    "df_os_mecanico[\"DATA INICIO SERVICO\"] = pd.to_datetime(df_os_mecanico[\"DATA INICIO SERVICO\"])\n",
    "\n",
    "df_os_mecanico\n"
   ]
  },
  {
   "cell_type": "code",
   "execution_count": 6,
   "metadata": {},
   "outputs": [
    {
     "data": {
      "text/plain": [
       "5"
      ]
     },
     "execution_count": 6,
     "metadata": {},
     "output_type": "execute_result"
    }
   ],
   "source": [
    "len(df_os_mecanico['DESCRICAO DE SERVICO'].value_counts().index)"
   ]
  }
 ],
 "metadata": {
  "kernelspec": {
   "display_name": "MachineLearn",
   "language": "python",
   "name": "python3"
  },
  "language_info": {
   "codemirror_mode": {
    "name": "ipython",
    "version": 3
   },
   "file_extension": ".py",
   "mimetype": "text/x-python",
   "name": "python",
   "nbconvert_exporter": "python",
   "pygments_lexer": "ipython3",
   "version": "3.11.8"
  }
 },
 "nbformat": 4,
 "nbformat_minor": 2
}
